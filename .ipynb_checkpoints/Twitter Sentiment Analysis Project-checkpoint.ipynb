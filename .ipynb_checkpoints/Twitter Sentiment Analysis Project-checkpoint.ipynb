{
 "cells": [
  {
   "cell_type": "markdown",
   "id": "9d6060d2",
   "metadata": {},
   "source": [
    "<center>\n",
    "    <img src=\"https://weclouddata.s3.amazonaws.com/images/logos/wcd_logo_new_2.png\" width='30%'> \n",
    "</center>\n",
    "\n",
    "----------"
   ]
  },
  {
   "cell_type": "markdown",
   "id": "361124d5",
   "metadata": {},
   "source": [
    "### Twitter Sentiment Analysis Lab\n",
    "\n",
    "#### Dataset (tweets.csv)\n",
    "The dataset contains approximately 2000 different (scrapped) tweets with the following attributes:\n",
    "- 'id'         : unique 19 digit id for each tweet\n",
    "- 'created_at' : date & time of each tweet (or retweet)\n",
    "- 'text'       : tweet details/ description \n",
    "- 'location'   : origin of tweet\n",
    "\n",
    "#### Objective \n",
    "- **Sentiment label** - for each tweet based on it's text, devise a method to assign an appropriate sentiment ('positive', 'negative' or 'neutral'). This is achieved by using TextBlob (https://textblob.readthedocs.io/en/dev/)\n",
    "- **Text Analytics/NLP** - to extract features from tweet texts\n",
    "- **Machine Learning** - Building a robust & optimized ML model to accurately predict the sentiment associated with each tweet & explanation of the built model"
   ]
  },
  {
   "cell_type": "code",
   "execution_count": 1,
   "id": "e91f59ed",
   "metadata": {},
   "outputs": [],
   "source": [
    "# Libraries for data preparation & visualisation\n",
    "\n",
    "import re\n",
    "import numpy as np\n",
    "import pandas as pd\n",
    "import seaborn as sns\n",
    "sns.set(color_codes=True)\n",
    "import matplotlib.pyplot as plt\n",
    "%matplotlib inline\n",
    "from wordcloud import WordCloud\n",
    "\n",
    "\n",
    "# Library to ignore warnings\n",
    "\n",
    "import warnings\n",
    "warnings.filterwarnings(\"ignore\")\n",
    "\n",
    "# Library for assigning sentiment label\n",
    "\n",
    "from textblob import TextBlob\n",
    "\n",
    "# Libraries for text analytics\n",
    "\n",
    "import nltk\n",
    "from nltk.stem.wordnet import WordNetLemmatizer\n",
    "from nltk.stem.porter  import PorterStemmer\n",
    "from sklearn.feature_extraction.text import TfidfVectorizer\n",
    "\n",
    "# Libraries for ML modeling \n",
    "\n",
    "from sklearn.model_selection import train_test_split\n",
    "from sklearn.model_selection import StratifiedKFold, ParameterGrid\n",
    "from sklearn.model_selection import GridSearchCV, cross_val_score\n",
    "from sklearn.preprocessing import OneHotEncoder, StandardScaler\n",
    "from imblearn.over_sampling import RandomOverSampler\n",
    "from imblearn.pipeline import Pipeline\n",
    "from sklearn.svm import LinearSVC\n",
    "from sklearn.naive_bayes import MultinomialNB\n",
    "from sklearn.ensemble import RandomForestClassifier\n",
    "from xgboost import XGBClassifier\n",
    "from sklearn.metrics import f1_score, classification_report"
   ]
  },
  {
   "cell_type": "code",
   "execution_count": 2,
   "id": "dbe80ec8",
   "metadata": {},
   "outputs": [
    {
     "data": {
      "text/html": [
       "<div>\n",
       "<style scoped>\n",
       "    .dataframe tbody tr th:only-of-type {\n",
       "        vertical-align: middle;\n",
       "    }\n",
       "\n",
       "    .dataframe tbody tr th {\n",
       "        vertical-align: top;\n",
       "    }\n",
       "\n",
       "    .dataframe thead th {\n",
       "        text-align: right;\n",
       "    }\n",
       "</style>\n",
       "<table border=\"1\" class=\"dataframe\">\n",
       "  <thead>\n",
       "    <tr style=\"text-align: right;\">\n",
       "      <th></th>\n",
       "      <th>id</th>\n",
       "      <th>created_at</th>\n",
       "      <th>text</th>\n",
       "      <th>location</th>\n",
       "    </tr>\n",
       "  </thead>\n",
       "  <tbody>\n",
       "    <tr>\n",
       "      <th>0</th>\n",
       "      <td>1083193473539420160</td>\n",
       "      <td>2019-01-10 02:47:03</td>\n",
       "      <td>@CIBC please explain to me why I want to remai...</td>\n",
       "      <td>Canada</td>\n",
       "    </tr>\n",
       "    <tr>\n",
       "      <th>1</th>\n",
       "      <td>1083191479215026176</td>\n",
       "      <td>2019-01-10 02:39:08</td>\n",
       "      <td>RT @CIBCLiveLabs: We are pleased to announce, ...</td>\n",
       "      <td>Oshawa, Ontario</td>\n",
       "    </tr>\n",
       "    <tr>\n",
       "      <th>2</th>\n",
       "      <td>1083184422709575683</td>\n",
       "      <td>2019-01-10 02:11:05</td>\n",
       "      <td>CIBC World Markets Inc. Decreases Holdings in ...</td>\n",
       "      <td>The Netherlands</td>\n",
       "    </tr>\n",
       "    <tr>\n",
       "      <th>3</th>\n",
       "      <td>1083182915826126848</td>\n",
       "      <td>2019-01-10 02:05:06</td>\n",
       "      <td>Le patron de la Banque @cibc s’attend à un ral...</td>\n",
       "      <td>Montréal</td>\n",
       "    </tr>\n",
       "    <tr>\n",
       "      <th>4</th>\n",
       "      <td>1083177871881818112</td>\n",
       "      <td>2019-01-10 01:45:03</td>\n",
       "      <td>Your home is a valuable asset. Use your equity...</td>\n",
       "      <td>Lower Mainland, BC</td>\n",
       "    </tr>\n",
       "  </tbody>\n",
       "</table>\n",
       "</div>"
      ],
      "text/plain": [
       "                    id           created_at  \\\n",
       "0  1083193473539420160  2019-01-10 02:47:03   \n",
       "1  1083191479215026176  2019-01-10 02:39:08   \n",
       "2  1083184422709575683  2019-01-10 02:11:05   \n",
       "3  1083182915826126848  2019-01-10 02:05:06   \n",
       "4  1083177871881818112  2019-01-10 01:45:03   \n",
       "\n",
       "                                                text            location  \n",
       "0  @CIBC please explain to me why I want to remai...              Canada  \n",
       "1  RT @CIBCLiveLabs: We are pleased to announce, ...     Oshawa, Ontario  \n",
       "2  CIBC World Markets Inc. Decreases Holdings in ...     The Netherlands  \n",
       "3  Le patron de la Banque @cibc s’attend à un ral...            Montréal  \n",
       "4  Your home is a valuable asset. Use your equity...  Lower Mainland, BC  "
      ]
     },
     "execution_count": 2,
     "metadata": {},
     "output_type": "execute_result"
    }
   ],
   "source": [
    "# Reading in data \n",
    "\n",
    "data = pd.read_csv('tweets.csv')\n",
    "data.head()"
   ]
  },
  {
   "cell_type": "code",
   "execution_count": 3,
   "id": "a6b1f852",
   "metadata": {},
   "outputs": [
    {
     "data": {
      "text/plain": [
       "(1951, 4)"
      ]
     },
     "execution_count": 3,
     "metadata": {},
     "output_type": "execute_result"
    }
   ],
   "source": [
    "# Shape of data\n",
    "\n",
    "data.shape"
   ]
  },
  {
   "cell_type": "markdown",
   "id": "f4316810",
   "metadata": {},
   "source": [
    "- There are 1951 rows & 4 columns"
   ]
  },
  {
   "cell_type": "code",
   "execution_count": 4,
   "id": "858c8e94",
   "metadata": {},
   "outputs": [
    {
     "name": "stdout",
     "output_type": "stream",
     "text": [
      "<class 'pandas.core.frame.DataFrame'>\n",
      "RangeIndex: 1951 entries, 0 to 1950\n",
      "Data columns (total 4 columns):\n",
      " #   Column      Non-Null Count  Dtype \n",
      "---  ------      --------------  ----- \n",
      " 0   id          1951 non-null   int64 \n",
      " 1   created_at  1951 non-null   object\n",
      " 2   text        1951 non-null   object\n",
      " 3   location    1509 non-null   object\n",
      "dtypes: int64(1), object(3)\n",
      "memory usage: 61.1+ KB\n"
     ]
    }
   ],
   "source": [
    "data.info()"
   ]
  },
  {
   "cell_type": "markdown",
   "id": "1ecd3d7a",
   "metadata": {},
   "source": [
    "- 'id' is a 16 digit random number associated with each tweet. This should have no relevance on final modeling & can be dropped \n",
    "- 'created_at' is of object type & will be converted to datetime format\n",
    "- 'location' has 442 missing records "
   ]
  },
  {
   "cell_type": "code",
   "execution_count": 5,
   "id": "ac5f452b",
   "metadata": {},
   "outputs": [],
   "source": [
    "# Dropping 'id'\n",
    "\n",
    "data = data.drop('id', axis=1)"
   ]
  },
  {
   "cell_type": "code",
   "execution_count": 6,
   "id": "ed7435c4",
   "metadata": {},
   "outputs": [],
   "source": [
    "# Changing datatype for created_at \n",
    "\n",
    "data['created_at'] = pd.to_datetime(data['created_at'])"
   ]
  },
  {
   "cell_type": "code",
   "execution_count": 7,
   "id": "1be298e1",
   "metadata": {},
   "outputs": [],
   "source": [
    "# Replacing missing records under location with 'unknown'\n",
    "\n",
    "data = data.fillna('Unknown')"
   ]
  },
  {
   "cell_type": "code",
   "execution_count": 8,
   "id": "5383ad6f",
   "metadata": {},
   "outputs": [
    {
     "data": {
      "text/html": [
       "<div>\n",
       "<style scoped>\n",
       "    .dataframe tbody tr th:only-of-type {\n",
       "        vertical-align: middle;\n",
       "    }\n",
       "\n",
       "    .dataframe tbody tr th {\n",
       "        vertical-align: top;\n",
       "    }\n",
       "\n",
       "    .dataframe thead th {\n",
       "        text-align: right;\n",
       "    }\n",
       "</style>\n",
       "<table border=\"1\" class=\"dataframe\">\n",
       "  <thead>\n",
       "    <tr style=\"text-align: right;\">\n",
       "      <th></th>\n",
       "      <th>count</th>\n",
       "      <th>unique</th>\n",
       "      <th>top</th>\n",
       "      <th>freq</th>\n",
       "      <th>first</th>\n",
       "      <th>last</th>\n",
       "    </tr>\n",
       "  </thead>\n",
       "  <tbody>\n",
       "    <tr>\n",
       "      <th>created_at</th>\n",
       "      <td>1951</td>\n",
       "      <td>1924</td>\n",
       "      <td>2019-01-08 20:15:59</td>\n",
       "      <td>4</td>\n",
       "      <td>2018-12-30 23:26:02</td>\n",
       "      <td>2019-01-10 02:47:03</td>\n",
       "    </tr>\n",
       "    <tr>\n",
       "      <th>text</th>\n",
       "      <td>1951</td>\n",
       "      <td>1768</td>\n",
       "      <td>RT @NHLBlackhawks: Staying warm never looked s...</td>\n",
       "      <td>25</td>\n",
       "      <td>NaT</td>\n",
       "      <td>NaT</td>\n",
       "    </tr>\n",
       "    <tr>\n",
       "      <th>location</th>\n",
       "      <td>1951</td>\n",
       "      <td>429</td>\n",
       "      <td>Unknown</td>\n",
       "      <td>442</td>\n",
       "      <td>NaT</td>\n",
       "      <td>NaT</td>\n",
       "    </tr>\n",
       "  </tbody>\n",
       "</table>\n",
       "</div>"
      ],
      "text/plain": [
       "           count unique                                                top  \\\n",
       "created_at  1951   1924                                2019-01-08 20:15:59   \n",
       "text        1951   1768  RT @NHLBlackhawks: Staying warm never looked s...   \n",
       "location    1951    429                                            Unknown   \n",
       "\n",
       "           freq               first                last  \n",
       "created_at    4 2018-12-30 23:26:02 2019-01-10 02:47:03  \n",
       "text         25                 NaT                 NaT  \n",
       "location    442                 NaT                 NaT  "
      ]
     },
     "execution_count": 8,
     "metadata": {},
     "output_type": "execute_result"
    }
   ],
   "source": [
    "data.describe(include='all').T"
   ]
  },
  {
   "cell_type": "markdown",
   "id": "35f406eb",
   "metadata": {},
   "source": [
    "- 'text' value is repeated in the dataset, e.g., text 'RT @NHLBlackhawks: Staying warm never looked s...' occurs 25 times in the dataset. This indicates some of the texts have retweets "
   ]
  },
  {
   "cell_type": "code",
   "execution_count": 9,
   "id": "fb49edf0",
   "metadata": {},
   "outputs": [
    {
     "data": {
      "text/plain": [
       "0"
      ]
     },
     "execution_count": 9,
     "metadata": {},
     "output_type": "execute_result"
    }
   ],
   "source": [
    "# Checking duplicates \n",
    "\n",
    "data.duplicated().sum()"
   ]
  },
  {
   "cell_type": "markdown",
   "id": "8efe17dd",
   "metadata": {},
   "source": [
    "- There are no duplicate records "
   ]
  },
  {
   "cell_type": "code",
   "execution_count": 10,
   "id": "160791df",
   "metadata": {},
   "outputs": [
    {
     "data": {
      "text/plain": [
       "0"
      ]
     },
     "execution_count": 10,
     "metadata": {},
     "output_type": "execute_result"
    }
   ],
   "source": [
    "# Checking for missing values \n",
    "\n",
    "data.isnull().sum().sum()"
   ]
  },
  {
   "cell_type": "markdown",
   "id": "26e32196",
   "metadata": {},
   "source": [
    "- No further missing values "
   ]
  },
  {
   "cell_type": "markdown",
   "id": "dee66a2b",
   "metadata": {},
   "source": [
    "#### Feature Engineering & EDA"
   ]
  },
  {
   "cell_type": "code",
   "execution_count": 11,
   "id": "d273d446",
   "metadata": {},
   "outputs": [],
   "source": [
    "# Language detection\n",
    "\n",
    "from langdetect import detect\n",
    "\n",
    "def language_detection(text):\n",
    "    \n",
    "    try:\n",
    "        language = detect(text)\n",
    "        return(language)\n",
    "    except:\n",
    "        return('error')\n",
    "\n",
    "data['language'] = data['text'].apply(language_detection)"
   ]
  },
  {
   "cell_type": "code",
   "execution_count": 12,
   "id": "df858747",
   "metadata": {},
   "outputs": [
    {
     "data": {
      "text/html": [
       "<div>\n",
       "<style scoped>\n",
       "    .dataframe tbody tr th:only-of-type {\n",
       "        vertical-align: middle;\n",
       "    }\n",
       "\n",
       "    .dataframe tbody tr th {\n",
       "        vertical-align: top;\n",
       "    }\n",
       "\n",
       "    .dataframe thead th {\n",
       "        text-align: right;\n",
       "    }\n",
       "</style>\n",
       "<table border=\"1\" class=\"dataframe\">\n",
       "  <thead>\n",
       "    <tr style=\"text-align: right;\">\n",
       "      <th></th>\n",
       "      <th>created_at</th>\n",
       "      <th>text</th>\n",
       "      <th>location</th>\n",
       "      <th>language</th>\n",
       "    </tr>\n",
       "  </thead>\n",
       "  <tbody>\n",
       "    <tr>\n",
       "      <th>0</th>\n",
       "      <td>2019-01-10 02:47:03</td>\n",
       "      <td>@CIBC please explain to me why I want to remai...</td>\n",
       "      <td>Canada</td>\n",
       "      <td>en</td>\n",
       "    </tr>\n",
       "    <tr>\n",
       "      <th>1</th>\n",
       "      <td>2019-01-10 02:39:08</td>\n",
       "      <td>RT @CIBCLiveLabs: We are pleased to announce, ...</td>\n",
       "      <td>Oshawa, Ontario</td>\n",
       "      <td>en</td>\n",
       "    </tr>\n",
       "    <tr>\n",
       "      <th>2</th>\n",
       "      <td>2019-01-10 02:11:05</td>\n",
       "      <td>CIBC World Markets Inc. Decreases Holdings in ...</td>\n",
       "      <td>The Netherlands</td>\n",
       "      <td>en</td>\n",
       "    </tr>\n",
       "    <tr>\n",
       "      <th>3</th>\n",
       "      <td>2019-01-10 02:05:06</td>\n",
       "      <td>Le patron de la Banque @cibc s’attend à un ral...</td>\n",
       "      <td>Montréal</td>\n",
       "      <td>fr</td>\n",
       "    </tr>\n",
       "    <tr>\n",
       "      <th>4</th>\n",
       "      <td>2019-01-10 01:45:03</td>\n",
       "      <td>Your home is a valuable asset. Use your equity...</td>\n",
       "      <td>Lower Mainland, BC</td>\n",
       "      <td>en</td>\n",
       "    </tr>\n",
       "  </tbody>\n",
       "</table>\n",
       "</div>"
      ],
      "text/plain": [
       "           created_at                                               text  \\\n",
       "0 2019-01-10 02:47:03  @CIBC please explain to me why I want to remai...   \n",
       "1 2019-01-10 02:39:08  RT @CIBCLiveLabs: We are pleased to announce, ...   \n",
       "2 2019-01-10 02:11:05  CIBC World Markets Inc. Decreases Holdings in ...   \n",
       "3 2019-01-10 02:05:06  Le patron de la Banque @cibc s’attend à un ral...   \n",
       "4 2019-01-10 01:45:03  Your home is a valuable asset. Use your equity...   \n",
       "\n",
       "             location language  \n",
       "0              Canada       en  \n",
       "1     Oshawa, Ontario       en  \n",
       "2     The Netherlands       en  \n",
       "3            Montréal       fr  \n",
       "4  Lower Mainland, BC       en  "
      ]
     },
     "execution_count": 12,
     "metadata": {},
     "output_type": "execute_result"
    }
   ],
   "source": [
    "data.head()"
   ]
  },
  {
   "cell_type": "code",
   "execution_count": 13,
   "id": "33dd756d",
   "metadata": {},
   "outputs": [
    {
     "data": {
      "text/plain": [
       "en       1809\n",
       "fr         57\n",
       "error      13\n",
       "ca         12\n",
       "it          6\n",
       "es          6\n",
       "so          6\n",
       "sv          5\n",
       "ro          5\n",
       "vi          4\n",
       "da          4\n",
       "de          3\n",
       "pt          3\n",
       "zh-cn       3\n",
       "tr          2\n",
       "id          2\n",
       "cy          2\n",
       "pl          1\n",
       "ru          1\n",
       "ja          1\n",
       "th          1\n",
       "nl          1\n",
       "no          1\n",
       "fi          1\n",
       "fa          1\n",
       "ar          1\n",
       "Name: language, dtype: int64"
      ]
     },
     "execution_count": 13,
     "metadata": {},
     "output_type": "execute_result"
    }
   ],
   "source": [
    "# Language \n",
    "\n",
    "data['language'].value_counts()"
   ]
  },
  {
   "cell_type": "code",
   "execution_count": 14,
   "id": "1ee90959",
   "metadata": {},
   "outputs": [],
   "source": [
    "# Filter the dataset to only contain english texts\n",
    "\n",
    "data = data[data['language']=='en']\n",
    "data.drop('language', axis=1, inplace=True)"
   ]
  },
  {
   "cell_type": "code",
   "execution_count": 15,
   "id": "aa94bc7d",
   "metadata": {},
   "outputs": [
    {
     "data": {
      "text/plain": [
       "(1809, 3)"
      ]
     },
     "execution_count": 15,
     "metadata": {},
     "output_type": "execute_result"
    }
   ],
   "source": [
    "# Shape of data\n",
    "\n",
    "data.shape"
   ]
  },
  {
   "cell_type": "markdown",
   "id": "99fd3704",
   "metadata": {},
   "source": [
    "- There are 1809 rows remaining "
   ]
  },
  {
   "cell_type": "code",
   "execution_count": 16,
   "id": "15566719",
   "metadata": {},
   "outputs": [],
   "source": [
    "# Create new features from 'created_at'\n",
    "\n",
    "# Day of the week\n",
    "data['day_of_week'] = data['created_at'].dt.dayofweek\n",
    "data['day_of_week'] = data['day_of_week'].replace({0:'Monday', 1:'Tuesday', 2:'Wednesday', 3:'Thursday',\\\n",
    "                                                   4:'Friday', 5:'Saturday',6:'Sunday'})"
   ]
  },
  {
   "cell_type": "code",
   "execution_count": 17,
   "id": "6c9e659f",
   "metadata": {},
   "outputs": [],
   "source": [
    "# Hour \n",
    "\n",
    "data['hour']        = data['created_at'].dt.hour + data['created_at'].dt.minute/60"
   ]
  },
  {
   "cell_type": "code",
   "execution_count": 18,
   "id": "c096b9a9",
   "metadata": {},
   "outputs": [
    {
     "data": {
      "text/plain": [
       "Wednesday    441\n",
       "Monday       432\n",
       "Tuesday      335\n",
       "Friday       230\n",
       "Thursday     216\n",
       "Saturday      92\n",
       "Sunday        63\n",
       "Name: day_of_week, dtype: int64"
      ]
     },
     "execution_count": 18,
     "metadata": {},
     "output_type": "execute_result"
    }
   ],
   "source": [
    "# Value counts for day_of_week\n",
    "\n",
    "data['day_of_week'].value_counts()"
   ]
  },
  {
   "cell_type": "markdown",
   "id": "c16acf9c",
   "metadata": {},
   "source": [
    "- Majority of the tweets are on Wednesday (middle of the week), followed by Monday\n",
    "- Least number of tweets are on Saturday or Sunday"
   ]
  },
  {
   "cell_type": "code",
   "execution_count": 19,
   "id": "0151f96d",
   "metadata": {},
   "outputs": [],
   "source": [
    "# Dropping the 'created_at' attribute\n",
    "\n",
    "data = data.drop('created_at', axis=1)"
   ]
  },
  {
   "cell_type": "code",
   "execution_count": 20,
   "id": "aceadf11",
   "metadata": {},
   "outputs": [],
   "source": [
    "# Let's create target column, i.e., sentiment associated with text\n",
    "\n",
    "# Defining a function to assign sentiments (positive, negative or neutral)\n",
    "\n",
    "def get_sentiment(text):\n",
    "    blob = TextBlob(text)\n",
    "    sentiment = blob.sentiment.polarity\n",
    "    if sentiment > 0:\n",
    "        return 'positive'\n",
    "    elif sentiment < 0:\n",
    "        return 'negative'\n",
    "    else:\n",
    "        return 'neutral'\n",
    "    \n",
    "data['sentiment'] = data['text'].apply(get_sentiment)"
   ]
  },
  {
   "cell_type": "code",
   "execution_count": 21,
   "id": "b73473b0",
   "metadata": {},
   "outputs": [
    {
     "data": {
      "text/plain": [
       "positive    793\n",
       "neutral     715\n",
       "negative    301\n",
       "Name: sentiment, dtype: int64"
      ]
     },
     "execution_count": 21,
     "metadata": {},
     "output_type": "execute_result"
    }
   ],
   "source": [
    "# Value counts for sentiment\n",
    "\n",
    "data['sentiment'].value_counts()"
   ]
  },
  {
   "cell_type": "markdown",
   "id": "b7647e11",
   "metadata": {},
   "source": [
    "- Maximum tweets have a positive sentiment followed by neutral sentiment"
   ]
  },
  {
   "cell_type": "code",
   "execution_count": 22,
   "id": "710c78cc",
   "metadata": {},
   "outputs": [],
   "source": [
    "# function to create labeled barplots\n",
    "\n",
    "\n",
    "def labeled_barplot(data, feature, target ,perc=False, n=None):\n",
    "\n",
    "    total = len(data[feature])  # length of the column\n",
    "    count = data[feature].nunique()\n",
    "    if n is None:\n",
    "        plt.figure(figsize=(count + 2, 5))\n",
    "    else:\n",
    "        plt.figure(figsize=(n + 2, 5))\n",
    "\n",
    "    plt.xticks(rotation=90, fontsize=15)\n",
    "    ax = sns.countplot(data=data.sort_values(by=target),x=feature,palette=\"Paired\",hue=target,\\\n",
    "                       order=data[feature].value_counts().index[:n].sort_values(),)\n",
    "\n",
    "    for p in ax.patches:\n",
    "        if perc == True:\n",
    "            label = \"{:.1f}%\".format(100 * p.get_height() / total)  # percentage of each class of the category\n",
    "        else:\n",
    "            label = p.get_height()  # count of each level of the category\n",
    "\n",
    "        x = p.get_x() + p.get_width() / 2  # width of the plot\n",
    "        y = p.get_height()  # height of the plot\n",
    "\n",
    "        ax.annotate(label,(x, y),ha=\"center\",va=\"center\",size=12,xytext=(0, 5),textcoords=\"offset points\",)  # annotate the percentage\n",
    "\n",
    "    plt.show()  # show the plot"
   ]
  },
  {
   "cell_type": "code",
   "execution_count": 23,
   "id": "b7b684a6",
   "metadata": {},
   "outputs": [
    {
     "data": {
      "image/png": "[encoded data removed]",
      "text/plain": [
       "<Figure size 648x360 with 1 Axes>"
      ]
     },
     "metadata": {
      "needs_background": "light"
     },
     "output_type": "display_data"
    }
   ],
   "source": [
    "# day_of_week\n",
    "\n",
    "df = data.copy() \n",
    "\n",
    "from pandas.api.types import CategoricalDtype\n",
    "cats     = [ 'Monday', 'Tuesday', 'Wednesday', 'Thursday', 'Friday', 'Saturday', 'Sunday']\n",
    "cat_type = CategoricalDtype(categories=cats, ordered=True)\n",
    "\n",
    "df['day_of_week']=df['day_of_week'].astype(cat_type)\n",
    "\n",
    "labeled_barplot(df, 'day_of_week', 'sentiment')"
   ]
  },
  {
   "cell_type": "markdown",
   "id": "23a9c05f",
   "metadata": {},
   "source": [
    "- All weekdays (except Tuesdays) have majority of tweets as positive tweets, while weekends & Tuesdays have majority of tweets as neutral tweets "
   ]
  },
  {
   "cell_type": "code",
   "execution_count": 24,
   "id": "a7f00fec",
   "metadata": {},
   "outputs": [
    {
     "data": {
      "image/png": "[encoded data removed]",
      "text/plain": [
       "<Figure size 648x360 with 1 Axes>"
      ]
     },
     "metadata": {
      "needs_background": "light"
     },
     "output_type": "display_data"
    }
   ],
   "source": [
    "# hour\n",
    "\n",
    "plt.figure(figsize=(9,5))\n",
    "sns.histplot(data=data, x='hour');"
   ]
  },
  {
   "cell_type": "markdown",
   "id": "c29159b8",
   "metadata": {},
   "source": [
    "- Majority of the tweets are in the late afternoons & evenings (peaking after 3PM)"
   ]
  },
  {
   "cell_type": "markdown",
   "id": "798326bc",
   "metadata": {},
   "source": [
    "New features will be created by counting number of positive & negative words in each tweet. The list of all positive & negative words are borrowed from this study: https://www.cs.uic.edu/~liub/FBS/sentiment-analysis.html"
   ]
  },
  {
   "cell_type": "code",
   "execution_count": 25,
   "id": "26830377",
   "metadata": {},
   "outputs": [],
   "source": [
    "positive_words = pd.read_csv('positive-words.txt', skiprows=35, names=['words'])\n",
    "positive_words = positive_words['words'].values.tolist()"
   ]
  },
  {
   "cell_type": "code",
   "execution_count": 26,
   "id": "7592135a",
   "metadata": {},
   "outputs": [],
   "source": [
    "negative_words = pd.read_csv('negative-words.txt', skiprows=35, names=['words'])\n",
    "negative_words = negative_words['words'].values.tolist()"
   ]
  },
  {
   "cell_type": "code",
   "execution_count": 27,
   "id": "53bbaef6",
   "metadata": {},
   "outputs": [],
   "source": [
    "# Let's create new features, i.e., number of positive & negative words associated with each text\n",
    "\n",
    "# Defining a function to count number of positive & negative words\n",
    "\n",
    "def count_words(tweet, words): \n",
    "    count = 0\n",
    "    for word in tweet.split(' '):\n",
    "        if word in words:\n",
    "            count += 1\n",
    "    return count\n",
    "\n",
    "data['number_positive_words'] = data['text'].apply(count_words, words=positive_words)\n",
    "data['number_negative_words'] = data['text'].apply(count_words, words=negative_words)"
   ]
  },
  {
   "cell_type": "code",
   "execution_count": 28,
   "id": "b6f954a7",
   "metadata": {},
   "outputs": [],
   "source": [
    "# Function to create stacked barplots\n",
    "\n",
    "def stacked_barplot(data, predictor, target):\n",
    "\n",
    "    count = data[predictor].nunique()\n",
    "    sorter = data[target].value_counts().index[-1]\n",
    "    tab1 = pd.crosstab(data[predictor], data[target], margins=True).sort_values(by=sorter, ascending=False)\n",
    "    print(tab1)\n",
    "    print(\"-\" * 120)\n",
    "    tab = pd.crosstab(data[predictor], data[target], normalize=\"index\").sort_values(by=predictor, ascending=True)\n",
    "    tab.plot(kind=\"bar\", stacked=True, figsize=(count + 5, 5))\n",
    "    plt.legend(loc=\"lower left\", frameon=False,)\n",
    "    plt.legend(loc=\"upper left\", bbox_to_anchor=(1, 1))\n",
    "    plt.show()"
   ]
  },
  {
   "cell_type": "code",
   "execution_count": 29,
   "id": "9063a0ad",
   "metadata": {},
   "outputs": [
    {
     "name": "stdout",
     "output_type": "stream",
     "text": [
      "sentiment              negative  neutral  positive   All\n",
      "number_positive_words                                   \n",
      "All                         301      715       793  1809\n",
      "0                           285      654       505  1444\n",
      "1                            15       55       190   260\n",
      "2                             1        6        85    92\n",
      "3                             0        0         9     9\n",
      "4                             0        0         4     4\n",
      "------------------------------------------------------------------------------------------------------------------------\n"
     ]
    },
    {
     "data": {
      "image/png": "[encoded data removed]",
      "text/plain": [
       "<Figure size 720x360 with 1 Axes>"
      ]
     },
     "metadata": {
      "needs_background": "light"
     },
     "output_type": "display_data"
    }
   ],
   "source": [
    "# number_positive_words\n",
    "\n",
    "stacked_barplot(data, 'number_positive_words', 'sentiment')"
   ]
  },
  {
   "cell_type": "markdown",
   "id": "b493548e",
   "metadata": {},
   "source": [
    "- Tweets with 0 or 1 count for number_positive_words have all three sentiments 'neutral', 'positive' & 'negative' \n",
    "- Tweets with 1, 2, 3 or 4 number_positive_words are majorly a 'positive' sentiment as expected"
   ]
  },
  {
   "cell_type": "code",
   "execution_count": 30,
   "id": "25cd1588",
   "metadata": {},
   "outputs": [
    {
     "name": "stdout",
     "output_type": "stream",
     "text": [
      "sentiment              negative  neutral  positive   All\n",
      "number_negative_words                                   \n",
      "All                         301      715       793  1809\n",
      "0                           189      625       676  1490\n",
      "1                            82       82       105   269\n",
      "2                            28        7        12    47\n",
      "3                             1        1         0     2\n",
      "4                             1        0         0     1\n",
      "------------------------------------------------------------------------------------------------------------------------\n"
     ]
    },
    {
     "data": {
      "image/png": "[encoded data removed]",
      "text/plain": [
       "<Figure size 720x360 with 1 Axes>"
      ]
     },
     "metadata": {
      "needs_background": "light"
     },
     "output_type": "display_data"
    }
   ],
   "source": [
    "# number_negative_words\n",
    "\n",
    "stacked_barplot(data, 'number_negative_words', 'sentiment')"
   ]
  },
  {
   "cell_type": "markdown",
   "id": "82358e28",
   "metadata": {},
   "source": [
    "- Tweets with 0 or 1 count for number_negative_words have all three sentiments 'neutral', 'positive' & 'negative'\n",
    "- Tweets with 2, 3 or 4 number_negative_words are majorly a 'negative' sentiment as expected"
   ]
  },
  {
   "cell_type": "code",
   "execution_count": 31,
   "id": "1a48dcca",
   "metadata": {},
   "outputs": [
    {
     "data": {
      "text/html": [
       "<div>\n",
       "<style scoped>\n",
       "    .dataframe tbody tr th:only-of-type {\n",
       "        vertical-align: middle;\n",
       "    }\n",
       "\n",
       "    .dataframe tbody tr th {\n",
       "        vertical-align: top;\n",
       "    }\n",
       "\n",
       "    .dataframe thead th {\n",
       "        text-align: right;\n",
       "    }\n",
       "</style>\n",
       "<table border=\"1\" class=\"dataframe\">\n",
       "  <thead>\n",
       "    <tr style=\"text-align: right;\">\n",
       "      <th></th>\n",
       "      <th>text</th>\n",
       "      <th>location</th>\n",
       "      <th>day_of_week</th>\n",
       "      <th>hour</th>\n",
       "      <th>sentiment</th>\n",
       "      <th>number_positive_words</th>\n",
       "      <th>number_negative_words</th>\n",
       "    </tr>\n",
       "  </thead>\n",
       "  <tbody>\n",
       "    <tr>\n",
       "      <th>0</th>\n",
       "      <td>@CIBC please explain to me why I want to remai...</td>\n",
       "      <td>Canada</td>\n",
       "      <td>Thursday</td>\n",
       "      <td>2.783333</td>\n",
       "      <td>neutral</td>\n",
       "      <td>0</td>\n",
       "      <td>0</td>\n",
       "    </tr>\n",
       "    <tr>\n",
       "      <th>1</th>\n",
       "      <td>RT @CIBCLiveLabs: We are pleased to announce, ...</td>\n",
       "      <td>Oshawa, Ontario</td>\n",
       "      <td>Thursday</td>\n",
       "      <td>2.650000</td>\n",
       "      <td>positive</td>\n",
       "      <td>2</td>\n",
       "      <td>1</td>\n",
       "    </tr>\n",
       "    <tr>\n",
       "      <th>2</th>\n",
       "      <td>CIBC World Markets Inc. Decreases Holdings in ...</td>\n",
       "      <td>The Netherlands</td>\n",
       "      <td>Thursday</td>\n",
       "      <td>2.183333</td>\n",
       "      <td>neutral</td>\n",
       "      <td>0</td>\n",
       "      <td>0</td>\n",
       "    </tr>\n",
       "    <tr>\n",
       "      <th>4</th>\n",
       "      <td>Your home is a valuable asset. Use your equity...</td>\n",
       "      <td>Lower Mainland, BC</td>\n",
       "      <td>Thursday</td>\n",
       "      <td>1.750000</td>\n",
       "      <td>positive</td>\n",
       "      <td>1</td>\n",
       "      <td>0</td>\n",
       "    </tr>\n",
       "    <tr>\n",
       "      <th>5</th>\n",
       "      <td>Both #CIBC and #BMO ads at the Chicago Black H...</td>\n",
       "      <td>Northern Virginia</td>\n",
       "      <td>Thursday</td>\n",
       "      <td>1.633333</td>\n",
       "      <td>negative</td>\n",
       "      <td>0</td>\n",
       "      <td>0</td>\n",
       "    </tr>\n",
       "  </tbody>\n",
       "</table>\n",
       "</div>"
      ],
      "text/plain": [
       "                                                text            location  \\\n",
       "0  @CIBC please explain to me why I want to remai...              Canada   \n",
       "1  RT @CIBCLiveLabs: We are pleased to announce, ...     Oshawa, Ontario   \n",
       "2  CIBC World Markets Inc. Decreases Holdings in ...     The Netherlands   \n",
       "4  Your home is a valuable asset. Use your equity...  Lower Mainland, BC   \n",
       "5  Both #CIBC and #BMO ads at the Chicago Black H...   Northern Virginia   \n",
       "\n",
       "  day_of_week      hour sentiment  number_positive_words  \\\n",
       "0    Thursday  2.783333   neutral                      0   \n",
       "1    Thursday  2.650000  positive                      2   \n",
       "2    Thursday  2.183333   neutral                      0   \n",
       "4    Thursday  1.750000  positive                      1   \n",
       "5    Thursday  1.633333  negative                      0   \n",
       "\n",
       "   number_negative_words  \n",
       "0                      0  \n",
       "1                      1  \n",
       "2                      0  \n",
       "4                      0  \n",
       "5                      0  "
      ]
     },
     "execution_count": 31,
     "metadata": {},
     "output_type": "execute_result"
    }
   ],
   "source": [
    "data.head()"
   ]
  },
  {
   "cell_type": "code",
   "execution_count": 32,
   "id": "5e39294e",
   "metadata": {},
   "outputs": [
    {
     "data": {
      "text/html": [
       "<div>\n",
       "<style scoped>\n",
       "    .dataframe tbody tr th:only-of-type {\n",
       "        vertical-align: middle;\n",
       "    }\n",
       "\n",
       "    .dataframe tbody tr th {\n",
       "        vertical-align: top;\n",
       "    }\n",
       "\n",
       "    .dataframe thead th {\n",
       "        text-align: right;\n",
       "    }\n",
       "</style>\n",
       "<table border=\"1\" class=\"dataframe\">\n",
       "  <thead>\n",
       "    <tr style=\"text-align: right;\">\n",
       "      <th></th>\n",
       "      <th>text</th>\n",
       "      <th>location</th>\n",
       "      <th>day_of_week</th>\n",
       "      <th>hour</th>\n",
       "      <th>sentiment</th>\n",
       "      <th>number_positive_words</th>\n",
       "      <th>number_negative_words</th>\n",
       "    </tr>\n",
       "  </thead>\n",
       "  <tbody>\n",
       "    <tr>\n",
       "      <th>0</th>\n",
       "      <td>cibc please explain to me why i want to remai...</td>\n",
       "      <td>Canada</td>\n",
       "      <td>Thursday</td>\n",
       "      <td>2.783333</td>\n",
       "      <td>neutral</td>\n",
       "      <td>0</td>\n",
       "      <td>0</td>\n",
       "    </tr>\n",
       "    <tr>\n",
       "      <th>1</th>\n",
       "      <td>rt  cibclivelabs  we are pleased to announce  ...</td>\n",
       "      <td>Oshawa, Ontario</td>\n",
       "      <td>Thursday</td>\n",
       "      <td>2.650000</td>\n",
       "      <td>positive</td>\n",
       "      <td>2</td>\n",
       "      <td>1</td>\n",
       "    </tr>\n",
       "    <tr>\n",
       "      <th>2</th>\n",
       "      <td>cibc world markets inc  decreases holdings in ...</td>\n",
       "      <td>The Netherlands</td>\n",
       "      <td>Thursday</td>\n",
       "      <td>2.183333</td>\n",
       "      <td>neutral</td>\n",
       "      <td>0</td>\n",
       "      <td>0</td>\n",
       "    </tr>\n",
       "    <tr>\n",
       "      <th>4</th>\n",
       "      <td>your home is a valuable asset  use your equity...</td>\n",
       "      <td>Lower Mainland, BC</td>\n",
       "      <td>Thursday</td>\n",
       "      <td>1.750000</td>\n",
       "      <td>positive</td>\n",
       "      <td>1</td>\n",
       "      <td>0</td>\n",
       "    </tr>\n",
       "    <tr>\n",
       "      <th>5</th>\n",
       "      <td>both  cibc and  bmo ads at the chicago black h...</td>\n",
       "      <td>Northern Virginia</td>\n",
       "      <td>Thursday</td>\n",
       "      <td>1.633333</td>\n",
       "      <td>negative</td>\n",
       "      <td>0</td>\n",
       "      <td>0</td>\n",
       "    </tr>\n",
       "  </tbody>\n",
       "</table>\n",
       "</div>"
      ],
      "text/plain": [
       "                                                text            location  \\\n",
       "0   cibc please explain to me why i want to remai...              Canada   \n",
       "1  rt  cibclivelabs  we are pleased to announce  ...     Oshawa, Ontario   \n",
       "2  cibc world markets inc  decreases holdings in ...     The Netherlands   \n",
       "4  your home is a valuable asset  use your equity...  Lower Mainland, BC   \n",
       "5  both  cibc and  bmo ads at the chicago black h...   Northern Virginia   \n",
       "\n",
       "  day_of_week      hour sentiment  number_positive_words  \\\n",
       "0    Thursday  2.783333   neutral                      0   \n",
       "1    Thursday  2.650000  positive                      2   \n",
       "2    Thursday  2.183333   neutral                      0   \n",
       "4    Thursday  1.750000  positive                      1   \n",
       "5    Thursday  1.633333  negative                      0   \n",
       "\n",
       "   number_negative_words  \n",
       "0                      0  \n",
       "1                      1  \n",
       "2                      0  \n",
       "4                      0  \n",
       "5                      0  "
      ]
     },
     "execution_count": 32,
     "metadata": {},
     "output_type": "execute_result"
    }
   ],
   "source": [
    "# Convert tweets to lowercase \n",
    "\n",
    "data['text'] = data['text'].str.lower()\n",
    "\n",
    "# Remove non-alphanumeric character from tweets such as '@'\n",
    "\n",
    "def remove_non_alphanumeric(tweet):\n",
    "    pattern = re.compile('\\W')\n",
    "    x = re.sub(pattern, ' ', tweet)\n",
    "    return(x)\n",
    "    \n",
    "data['text'] = data['text'].apply(remove_non_alphanumeric)\n",
    "\n",
    "data.head()"
   ]
  },
  {
   "cell_type": "markdown",
   "id": "2dcc3f27",
   "metadata": {},
   "source": [
    "- The text has been converted to lowercase & non-alphanumerical characters such as @ & # have been removed "
   ]
  },
  {
   "cell_type": "code",
   "execution_count": 33,
   "id": "39f5da2c",
   "metadata": {},
   "outputs": [
    {
     "data": {
      "text/html": [
       "<div>\n",
       "<style scoped>\n",
       "    .dataframe tbody tr th:only-of-type {\n",
       "        vertical-align: middle;\n",
       "    }\n",
       "\n",
       "    .dataframe tbody tr th {\n",
       "        vertical-align: top;\n",
       "    }\n",
       "\n",
       "    .dataframe thead th {\n",
       "        text-align: right;\n",
       "    }\n",
       "</style>\n",
       "<table border=\"1\" class=\"dataframe\">\n",
       "  <thead>\n",
       "    <tr style=\"text-align: right;\">\n",
       "      <th></th>\n",
       "      <th>text</th>\n",
       "      <th>location</th>\n",
       "      <th>day_of_week</th>\n",
       "      <th>hour</th>\n",
       "      <th>sentiment</th>\n",
       "      <th>number_positive_words</th>\n",
       "      <th>number_negative_words</th>\n",
       "      <th>tokens</th>\n",
       "    </tr>\n",
       "  </thead>\n",
       "  <tbody>\n",
       "    <tr>\n",
       "      <th>0</th>\n",
       "      <td>cibc please explain to me why i want to remai...</td>\n",
       "      <td>Canada</td>\n",
       "      <td>Thursday</td>\n",
       "      <td>2.783333</td>\n",
       "      <td>neutral</td>\n",
       "      <td>0</td>\n",
       "      <td>0</td>\n",
       "      <td>[cibc, please, explain, to, me, why, i, want, ...</td>\n",
       "    </tr>\n",
       "    <tr>\n",
       "      <th>1</th>\n",
       "      <td>rt  cibclivelabs  we are pleased to announce  ...</td>\n",
       "      <td>Oshawa, Ontario</td>\n",
       "      <td>Thursday</td>\n",
       "      <td>2.650000</td>\n",
       "      <td>positive</td>\n",
       "      <td>2</td>\n",
       "      <td>1</td>\n",
       "      <td>[rt, cibclivelabs, we, are, pleased, to, annou...</td>\n",
       "    </tr>\n",
       "    <tr>\n",
       "      <th>2</th>\n",
       "      <td>cibc world markets inc  decreases holdings in ...</td>\n",
       "      <td>The Netherlands</td>\n",
       "      <td>Thursday</td>\n",
       "      <td>2.183333</td>\n",
       "      <td>neutral</td>\n",
       "      <td>0</td>\n",
       "      <td>0</td>\n",
       "      <td>[cibc, world, markets, inc, decreases, holding...</td>\n",
       "    </tr>\n",
       "    <tr>\n",
       "      <th>4</th>\n",
       "      <td>your home is a valuable asset  use your equity...</td>\n",
       "      <td>Lower Mainland, BC</td>\n",
       "      <td>Thursday</td>\n",
       "      <td>1.750000</td>\n",
       "      <td>positive</td>\n",
       "      <td>1</td>\n",
       "      <td>0</td>\n",
       "      <td>[your, home, is, a, valuable, asset, use, your...</td>\n",
       "    </tr>\n",
       "    <tr>\n",
       "      <th>5</th>\n",
       "      <td>both  cibc and  bmo ads at the chicago black h...</td>\n",
       "      <td>Northern Virginia</td>\n",
       "      <td>Thursday</td>\n",
       "      <td>1.633333</td>\n",
       "      <td>negative</td>\n",
       "      <td>0</td>\n",
       "      <td>0</td>\n",
       "      <td>[both, cibc, and, bmo, ads, at, the, chicago, ...</td>\n",
       "    </tr>\n",
       "  </tbody>\n",
       "</table>\n",
       "</div>"
      ],
      "text/plain": [
       "                                                text            location  \\\n",
       "0   cibc please explain to me why i want to remai...              Canada   \n",
       "1  rt  cibclivelabs  we are pleased to announce  ...     Oshawa, Ontario   \n",
       "2  cibc world markets inc  decreases holdings in ...     The Netherlands   \n",
       "4  your home is a valuable asset  use your equity...  Lower Mainland, BC   \n",
       "5  both  cibc and  bmo ads at the chicago black h...   Northern Virginia   \n",
       "\n",
       "  day_of_week      hour sentiment  number_positive_words  \\\n",
       "0    Thursday  2.783333   neutral                      0   \n",
       "1    Thursday  2.650000  positive                      2   \n",
       "2    Thursday  2.183333   neutral                      0   \n",
       "4    Thursday  1.750000  positive                      1   \n",
       "5    Thursday  1.633333  negative                      0   \n",
       "\n",
       "   number_negative_words                                             tokens  \n",
       "0                      0  [cibc, please, explain, to, me, why, i, want, ...  \n",
       "1                      1  [rt, cibclivelabs, we, are, pleased, to, annou...  \n",
       "2                      0  [cibc, world, markets, inc, decreases, holding...  \n",
       "4                      0  [your, home, is, a, valuable, asset, use, your...  \n",
       "5                      0  [both, cibc, and, bmo, ads, at, the, chicago, ...  "
      ]
     },
     "execution_count": 33,
     "metadata": {},
     "output_type": "execute_result"
    }
   ],
   "source": [
    "# Tokenize sentences to arrays of words\n",
    "\n",
    "data['tokens'] = data['text'].apply(nltk.word_tokenize)\n",
    "\n",
    "data.head()"
   ]
  },
  {
   "cell_type": "code",
   "execution_count": 34,
   "id": "4fd884cb",
   "metadata": {},
   "outputs": [
    {
     "data": {
      "text/html": [
       "<div>\n",
       "<style scoped>\n",
       "    .dataframe tbody tr th:only-of-type {\n",
       "        vertical-align: middle;\n",
       "    }\n",
       "\n",
       "    .dataframe tbody tr th {\n",
       "        vertical-align: top;\n",
       "    }\n",
       "\n",
       "    .dataframe thead th {\n",
       "        text-align: right;\n",
       "    }\n",
       "</style>\n",
       "<table border=\"1\" class=\"dataframe\">\n",
       "  <thead>\n",
       "    <tr style=\"text-align: right;\">\n",
       "      <th></th>\n",
       "      <th>text</th>\n",
       "      <th>location</th>\n",
       "      <th>day_of_week</th>\n",
       "      <th>hour</th>\n",
       "      <th>sentiment</th>\n",
       "      <th>number_positive_words</th>\n",
       "      <th>number_negative_words</th>\n",
       "      <th>tokens</th>\n",
       "    </tr>\n",
       "  </thead>\n",
       "  <tbody>\n",
       "    <tr>\n",
       "      <th>0</th>\n",
       "      <td>cibc please explain to me why i want to remai...</td>\n",
       "      <td>Canada</td>\n",
       "      <td>Thursday</td>\n",
       "      <td>2.783333</td>\n",
       "      <td>neutral</td>\n",
       "      <td>0</td>\n",
       "      <td>0</td>\n",
       "      <td>[cibc, please, explain, to, me, why, i, want, ...</td>\n",
       "    </tr>\n",
       "    <tr>\n",
       "      <th>1</th>\n",
       "      <td>rt  cibclivelabs  we are pleased to announce  ...</td>\n",
       "      <td>Oshawa, Ontario</td>\n",
       "      <td>Thursday</td>\n",
       "      <td>2.650000</td>\n",
       "      <td>positive</td>\n",
       "      <td>2</td>\n",
       "      <td>1</td>\n",
       "      <td>[rt, cibclivelabs, we, are, pleased, to, annou...</td>\n",
       "    </tr>\n",
       "    <tr>\n",
       "      <th>2</th>\n",
       "      <td>cibc world markets inc  decreases holdings in ...</td>\n",
       "      <td>The Netherlands</td>\n",
       "      <td>Thursday</td>\n",
       "      <td>2.183333</td>\n",
       "      <td>neutral</td>\n",
       "      <td>0</td>\n",
       "      <td>0</td>\n",
       "      <td>[cibc, world, market, inc, decrease, holding, ...</td>\n",
       "    </tr>\n",
       "    <tr>\n",
       "      <th>4</th>\n",
       "      <td>your home is a valuable asset  use your equity...</td>\n",
       "      <td>Lower Mainland, BC</td>\n",
       "      <td>Thursday</td>\n",
       "      <td>1.750000</td>\n",
       "      <td>positive</td>\n",
       "      <td>1</td>\n",
       "      <td>0</td>\n",
       "      <td>[your, home, is, a, valuable, asset, use, your...</td>\n",
       "    </tr>\n",
       "    <tr>\n",
       "      <th>5</th>\n",
       "      <td>both  cibc and  bmo ads at the chicago black h...</td>\n",
       "      <td>Northern Virginia</td>\n",
       "      <td>Thursday</td>\n",
       "      <td>1.633333</td>\n",
       "      <td>negative</td>\n",
       "      <td>0</td>\n",
       "      <td>0</td>\n",
       "      <td>[both, cibc, and, bmo, ad, at, the, chicago, b...</td>\n",
       "    </tr>\n",
       "  </tbody>\n",
       "</table>\n",
       "</div>"
      ],
      "text/plain": [
       "                                                text            location  \\\n",
       "0   cibc please explain to me why i want to remai...              Canada   \n",
       "1  rt  cibclivelabs  we are pleased to announce  ...     Oshawa, Ontario   \n",
       "2  cibc world markets inc  decreases holdings in ...     The Netherlands   \n",
       "4  your home is a valuable asset  use your equity...  Lower Mainland, BC   \n",
       "5  both  cibc and  bmo ads at the chicago black h...   Northern Virginia   \n",
       "\n",
       "  day_of_week      hour sentiment  number_positive_words  \\\n",
       "0    Thursday  2.783333   neutral                      0   \n",
       "1    Thursday  2.650000  positive                      2   \n",
       "2    Thursday  2.183333   neutral                      0   \n",
       "4    Thursday  1.750000  positive                      1   \n",
       "5    Thursday  1.633333  negative                      0   \n",
       "\n",
       "   number_negative_words                                             tokens  \n",
       "0                      0  [cibc, please, explain, to, me, why, i, want, ...  \n",
       "1                      1  [rt, cibclivelabs, we, are, pleased, to, annou...  \n",
       "2                      0  [cibc, world, market, inc, decrease, holding, ...  \n",
       "4                      0  [your, home, is, a, valuable, asset, use, your...  \n",
       "5                      0  [both, cibc, and, bmo, ad, at, the, chicago, b...  "
      ]
     },
     "execution_count": 34,
     "metadata": {},
     "output_type": "execute_result"
    }
   ],
   "source": [
    "# Lemmatize the words\n",
    "\n",
    "lem = WordNetLemmatizer()\n",
    "data['tokens'] = data['tokens'].apply(lambda x: [lem.lemmatize(word) for word in x])\n",
    "\n",
    "data.head()"
   ]
  },
  {
   "cell_type": "markdown",
   "id": "39e6c89b",
   "metadata": {},
   "source": [
    "- We can see examples of words being broken down to the root like markets has become market & ads has become ad "
   ]
  },
  {
   "cell_type": "code",
   "execution_count": 35,
   "id": "89462daa",
   "metadata": {},
   "outputs": [
    {
     "data": {
      "text/html": [
       "<div>\n",
       "<style scoped>\n",
       "    .dataframe tbody tr th:only-of-type {\n",
       "        vertical-align: middle;\n",
       "    }\n",
       "\n",
       "    .dataframe tbody tr th {\n",
       "        vertical-align: top;\n",
       "    }\n",
       "\n",
       "    .dataframe thead th {\n",
       "        text-align: right;\n",
       "    }\n",
       "</style>\n",
       "<table border=\"1\" class=\"dataframe\">\n",
       "  <thead>\n",
       "    <tr style=\"text-align: right;\">\n",
       "      <th></th>\n",
       "      <th>text</th>\n",
       "      <th>location</th>\n",
       "      <th>day_of_week</th>\n",
       "      <th>hour</th>\n",
       "      <th>sentiment</th>\n",
       "      <th>number_positive_words</th>\n",
       "      <th>number_negative_words</th>\n",
       "      <th>tokens</th>\n",
       "    </tr>\n",
       "  </thead>\n",
       "  <tbody>\n",
       "    <tr>\n",
       "      <th>0</th>\n",
       "      <td>cibc please explain to me why i want to remai...</td>\n",
       "      <td>Canada</td>\n",
       "      <td>Thursday</td>\n",
       "      <td>2.783333</td>\n",
       "      <td>neutral</td>\n",
       "      <td>0</td>\n",
       "      <td>0</td>\n",
       "      <td>cibc pleas explain to me whi i want to remain ...</td>\n",
       "    </tr>\n",
       "    <tr>\n",
       "      <th>1</th>\n",
       "      <td>rt  cibclivelabs  we are pleased to announce  ...</td>\n",
       "      <td>Oshawa, Ontario</td>\n",
       "      <td>Thursday</td>\n",
       "      <td>2.650000</td>\n",
       "      <td>positive</td>\n",
       "      <td>2</td>\n",
       "      <td>1</td>\n",
       "      <td>rt cibclivelab we are pleas to announc cibc in...</td>\n",
       "    </tr>\n",
       "    <tr>\n",
       "      <th>2</th>\n",
       "      <td>cibc world markets inc  decreases holdings in ...</td>\n",
       "      <td>The Netherlands</td>\n",
       "      <td>Thursday</td>\n",
       "      <td>2.183333</td>\n",
       "      <td>neutral</td>\n",
       "      <td>0</td>\n",
       "      <td>0</td>\n",
       "      <td>cibc world market inc decreas hold in ing groe...</td>\n",
       "    </tr>\n",
       "    <tr>\n",
       "      <th>4</th>\n",
       "      <td>your home is a valuable asset  use your equity...</td>\n",
       "      <td>Lower Mainland, BC</td>\n",
       "      <td>Thursday</td>\n",
       "      <td>1.750000</td>\n",
       "      <td>positive</td>\n",
       "      <td>1</td>\n",
       "      <td>0</td>\n",
       "      <td>your home is a valuabl asset use your equiti t...</td>\n",
       "    </tr>\n",
       "    <tr>\n",
       "      <th>5</th>\n",
       "      <td>both  cibc and  bmo ads at the chicago black h...</td>\n",
       "      <td>Northern Virginia</td>\n",
       "      <td>Thursday</td>\n",
       "      <td>1.633333</td>\n",
       "      <td>negative</td>\n",
       "      <td>0</td>\n",
       "      <td>0</td>\n",
       "      <td>both cibc and bmo ad at the chicago black hawk...</td>\n",
       "    </tr>\n",
       "  </tbody>\n",
       "</table>\n",
       "</div>"
      ],
      "text/plain": [
       "                                                text            location  \\\n",
       "0   cibc please explain to me why i want to remai...              Canada   \n",
       "1  rt  cibclivelabs  we are pleased to announce  ...     Oshawa, Ontario   \n",
       "2  cibc world markets inc  decreases holdings in ...     The Netherlands   \n",
       "4  your home is a valuable asset  use your equity...  Lower Mainland, BC   \n",
       "5  both  cibc and  bmo ads at the chicago black h...   Northern Virginia   \n",
       "\n",
       "  day_of_week      hour sentiment  number_positive_words  \\\n",
       "0    Thursday  2.783333   neutral                      0   \n",
       "1    Thursday  2.650000  positive                      2   \n",
       "2    Thursday  2.183333   neutral                      0   \n",
       "4    Thursday  1.750000  positive                      1   \n",
       "5    Thursday  1.633333  negative                      0   \n",
       "\n",
       "   number_negative_words                                             tokens  \n",
       "0                      0  cibc pleas explain to me whi i want to remain ...  \n",
       "1                      1  rt cibclivelab we are pleas to announc cibc in...  \n",
       "2                      0  cibc world market inc decreas hold in ing groe...  \n",
       "4                      0  your home is a valuabl asset use your equiti t...  \n",
       "5                      0  both cibc and bmo ad at the chicago black hawk...  "
      ]
     },
     "execution_count": 35,
     "metadata": {},
     "output_type": "execute_result"
    }
   ],
   "source": [
    "# Stemming the words\n",
    "\n",
    "stem = PorterStemmer()\n",
    "data['tokens'] = data['tokens'].apply(lambda x: [stem.stem(word) for word in x])\n",
    "\n",
    "data['tokens'] = data['tokens'].str.join(' ')\n",
    "\n",
    "data.head()"
   ]
  },
  {
   "cell_type": "markdown",
   "id": "cac3658a",
   "metadata": {},
   "source": [
    "- We can see examples of words being broken down to root (irrespective of the tense) like please & pleased has become pleas"
   ]
  },
  {
   "cell_type": "code",
   "execution_count": 36,
   "id": "5800de0e",
   "metadata": {},
   "outputs": [
    {
     "data": {
      "image/png": "[encoded data removed]",
      "text/plain": [
       "<Figure size 432x288 with 1 Axes>"
      ]
     },
     "metadata": {
      "needs_background": "light"
     },
     "output_type": "display_data"
    }
   ],
   "source": [
    "# Let's plot a word cloud to see the difference between original tweets & tweets post data cleaning\n",
    "\n",
    "# Original tweets\n",
    "\n",
    "data['text'].to_csv('tweetsonly.csv')  \n",
    "text2 = open('tweetsonly.csv').read()\n",
    "\n",
    "wordcloud = WordCloud().generate(text2)\n",
    "plt.imshow(wordcloud)\n",
    "plt.axis(\"off\")\n",
    "plt.show()"
   ]
  },
  {
   "cell_type": "code",
   "execution_count": 37,
   "id": "2ecb3cc6",
   "metadata": {},
   "outputs": [
    {
     "data": {
      "image/png": "[encoded data removed]",
      "text/plain": [
       "<Figure size 432x288 with 1 Axes>"
      ]
     },
     "metadata": {
      "needs_background": "light"
     },
     "output_type": "display_data"
    }
   ],
   "source": [
    "# tweets post data cleaning\n",
    "\n",
    "data['tokens'].to_csv('cleanedtweetsonly.csv')  \n",
    "text3 = open('cleanedtweetsonly.csv').read()\n",
    "\n",
    "wordcloud = WordCloud().generate(text3)\n",
    "plt.imshow(wordcloud)\n",
    "plt.axis(\"off\")\n",
    "plt.show()"
   ]
  },
  {
   "cell_type": "markdown",
   "id": "0911201f",
   "metadata": {},
   "source": [
    "- 'cibc', 'co', 'bank', 'thank' are some of the common word occurrences in cleaned up tweets\n",
    "- 'HTTPS' was a common occurrence in the original tweets but is no longer a common occurrence in cleaned up tweets"
   ]
  },
  {
   "cell_type": "code",
   "execution_count": 38,
   "id": "c362daad",
   "metadata": {},
   "outputs": [],
   "source": [
    "# Dropping text column \n",
    "\n",
    "data = data.drop('text', axis=1)"
   ]
  },
  {
   "cell_type": "code",
   "execution_count": 39,
   "id": "74d64459",
   "metadata": {},
   "outputs": [
    {
     "data": {
      "text/plain": [
       "Unknown                        412\n",
       "Canada                         342\n",
       "Toronto, Ontario                70\n",
       "The Caribbean                   64\n",
       "Toronto                         57\n",
       "Jamaica                         35\n",
       "United States                   30\n",
       "Barbados                        23\n",
       "Bahamas                         20\n",
       "Edmonton, Alberta               17\n",
       "Vancouver, British Columbia     16\n",
       "Calgary, Alberta                14\n",
       "Sioux Falls, SD                 14\n",
       "Ontario, Canada                 12\n",
       "Bay Street and Howe Street      10\n",
       "Chicago, IL                     10\n",
       "London, Ontario                  9\n",
       "Ottawa, Ontario                  9\n",
       "Winnipeg, Manitoba               9\n",
       "Toronto, Canada                  8\n",
       "Corner Brook, NL                 8\n",
       "Toronto, Ontario, Canada         7\n",
       "Chicago                          7\n",
       "Worldwide                        7\n",
       "Oshawa, Ontario                  7\n",
       "Name: location, dtype: int64"
      ]
     },
     "execution_count": 39,
     "metadata": {},
     "output_type": "execute_result"
    }
   ],
   "source": [
    "# Clean up locations column\n",
    "\n",
    "data['location'].value_counts().head(25)"
   ]
  },
  {
   "cell_type": "markdown",
   "id": "a81ecf5e",
   "metadata": {},
   "source": [
    "- This column is too unclean and will be dropped from analysis"
   ]
  },
  {
   "cell_type": "code",
   "execution_count": 40,
   "id": "82ddecf9",
   "metadata": {},
   "outputs": [],
   "source": [
    "data = data.drop('location', axis=1)"
   ]
  },
  {
   "cell_type": "markdown",
   "id": "982ad746",
   "metadata": {},
   "source": [
    "### Machine Learning"
   ]
  },
  {
   "cell_type": "code",
   "execution_count": 41,
   "id": "aca62c5d",
   "metadata": {},
   "outputs": [],
   "source": [
    "data['sentiment'] = data['sentiment'].replace({'neutral':0, 'positive':1, 'negative':-1})\n",
    "data['sentiment'] = data['sentiment'].astype(int)"
   ]
  },
  {
   "cell_type": "code",
   "execution_count": 42,
   "id": "a09a4fc2",
   "metadata": {},
   "outputs": [],
   "source": [
    "# Assign features & target as X & y respectively\n",
    "\n",
    "X = data.drop('sentiment', axis=1)\n",
    "y = data['sentiment']"
   ]
  },
  {
   "cell_type": "code",
   "execution_count": 43,
   "id": "8d8d3df3",
   "metadata": {},
   "outputs": [],
   "source": [
    "# One hot encoding of day_of_week column\n",
    "\n",
    "X = pd.get_dummies(X, columns=['day_of_week'], drop_first=True)"
   ]
  },
  {
   "cell_type": "code",
   "execution_count": 44,
   "id": "6bea8dda",
   "metadata": {},
   "outputs": [],
   "source": [
    "# Split data into train & test set using stratify to maintain the split of sentiment across train & test sets\n",
    "\n",
    "X_train_full, X_test, y_train_full, y_test = train_test_split(X, y, test_size=0.20, random_state=1, stratify=y,\\\n",
    "                                                   shuffle=True)"
   ]
  },
  {
   "cell_type": "code",
   "execution_count": 45,
   "id": "c2f41636",
   "metadata": {},
   "outputs": [
    {
     "data": {
      "text/plain": [
       "(1447, 10)"
      ]
     },
     "execution_count": 45,
     "metadata": {},
     "output_type": "execute_result"
    }
   ],
   "source": [
    "# Shape of splits \n",
    "\n",
    "X_train_full.shape"
   ]
  },
  {
   "cell_type": "code",
   "execution_count": 46,
   "id": "d471bca1",
   "metadata": {},
   "outputs": [
    {
     "data": {
      "text/plain": [
       "(362, 10)"
      ]
     },
     "execution_count": 46,
     "metadata": {},
     "output_type": "execute_result"
    }
   ],
   "source": [
    "X_test.shape"
   ]
  },
  {
   "cell_type": "markdown",
   "id": "1b41dcca",
   "metadata": {},
   "source": [
    "- There are now 10 columns & 1560 and 391 rows respectively in full training & test sets"
   ]
  },
  {
   "cell_type": "code",
   "execution_count": 47,
   "id": "66856662",
   "metadata": {},
   "outputs": [
    {
     "data": {
      "text/plain": [
       " 1    0.438148\n",
       " 0    0.395301\n",
       "-1    0.166551\n",
       "Name: sentiment, dtype: float64"
      ]
     },
     "execution_count": 47,
     "metadata": {},
     "output_type": "execute_result"
    }
   ],
   "source": [
    "y_train_full.value_counts(normalize=True)"
   ]
  },
  {
   "cell_type": "code",
   "execution_count": 48,
   "id": "2feb3063",
   "metadata": {},
   "outputs": [
    {
     "data": {
      "text/plain": [
       " 1    0.439227\n",
       " 0    0.395028\n",
       "-1    0.165746\n",
       "Name: sentiment, dtype: float64"
      ]
     },
     "execution_count": 48,
     "metadata": {},
     "output_type": "execute_result"
    }
   ],
   "source": [
    "y_test.value_counts(normalize=True)"
   ]
  },
  {
   "cell_type": "markdown",
   "id": "dbb83119",
   "metadata": {},
   "source": [
    "- Stratify has maintained the split of neutral ('0'), positive ('1') & negative ('-1') tweets in the dataset"
   ]
  },
  {
   "cell_type": "markdown",
   "id": "fce2f2d1",
   "metadata": {},
   "source": [
    "### 5-fold cross validation scores (default model parameters)"
   ]
  },
  {
   "cell_type": "markdown",
   "id": "af77e8da",
   "metadata": {},
   "source": [
    "We would like each class to be predicted correctly. Tuning the 'F1' metric will ensure the maximum possibility of correct predictions across each of the target classes\n",
    "\n",
    "Further, the following additional points need consideration\n",
    "\n",
    "- Vectorizer 'TFIDF' is chosen to convert text data to numerical feature matrix \n",
    "- RandomOverSampler would be needed to handle class imbalance across target classes\n",
    "- Further, choice of ML model(s) that work well with textual data- Multinomial Naive Baiyes, Linear Support Vector Classifier, Random Forest Classifier & XGBoost \n"
   ]
  },
  {
   "cell_type": "code",
   "execution_count": 49,
   "id": "4e0520c7",
   "metadata": {},
   "outputs": [
    {
     "name": "stdout",
     "output_type": "stream",
     "text": [
      "Cross Validation Model Performance on Training Set - TfidfVectorizer\n",
      "\n",
      "SupportVectorMachine : 0.38172497048147835\n",
      "Time : 0.4990891933441162\n",
      "\n",
      "\n",
      "MultinomialNaiveBayes : 0.4179577924814408\n",
      "Time : 0.15718913078308105\n",
      "\n",
      "\n",
      "RandomForest : 0.37329228832046796\n",
      "Time : 1.3154309272766114\n",
      "\n",
      "\n",
      "XGBoost : 0.38960427193273184\n",
      "Time : 33.96854658126831\n",
      "\n",
      "\n"
     ]
    }
   ],
   "source": [
    "import time\n",
    "\n",
    "# Initialize vectorizer TfidfVectorizer with default parameters, & stop_words as english\n",
    "\n",
    "vectorizer  = TfidfVectorizer(stop_words='english')\n",
    "\n",
    "# Initialize oversampler \n",
    "\n",
    "oversampler = RandomOverSampler(random_state=1)\n",
    "                                \n",
    "# Initialize ML models with default parameters\n",
    "                                \n",
    "models      = [(\"SupportVectorMachine\",  LinearSVC(random_state=1)),\n",
    "              (\"MultinomialNaiveBayes\",  MultinomialNB()),\n",
    "              (\"RandomForest\",           RandomForestClassifier(random_state=1)),\n",
    "              (\"XGBoost\",                XGBClassifier(random_state=1, eval_metric='mlogloss'))]\n",
    "\n",
    "results  = []  \n",
    "names    = []  \n",
    "\n",
    "print(\"Cross Validation Model Performance on Training Set - TfidfVectorizer\\n\")\n",
    "\n",
    "# Loop through models & calculate mean cross validated scores              \n",
    "for name, model in models:\n",
    "    \n",
    "    scores   = []\n",
    "    times    = []\n",
    "    \n",
    "    kf = StratifiedKFold(n_splits=5, random_state=1, shuffle=True)\n",
    "    \n",
    "    for train_index, val_index in kf.split(X_train_full, y_train_full):\n",
    "           \n",
    "        X_train, X_val = X_train_full.iloc[train_index], X_train_full.iloc[val_index]\n",
    "        y_train, y_val = y_train_full.iloc[train_index], y_train_full.iloc[val_index]\n",
    "\n",
    "        # vectorization\n",
    "        \n",
    "        num_tweets_train = vectorizer.fit_transform(X_train['tokens'])\n",
    "        num_tweets_val   = vectorizer.transform(X_val['tokens'])\n",
    "        \n",
    "        feature_names= vectorizer.get_feature_names_out()\n",
    "        \n",
    "        bow_df_train = pd.DataFrame(num_tweets_train.toarray(), columns=feature_names)\n",
    "        bow_df_val   = pd.DataFrame(num_tweets_val.toarray(),   columns=feature_names)\n",
    "        \n",
    "        X_train   = X_train.drop('tokens', axis=1)\n",
    "        X_val     = X_val.drop('tokens', axis=1)\n",
    "    \n",
    "        X_train_f = X_train.reset_index(drop=True).merge(bow_df_train.reset_index(drop=True), left_index=True, right_index=True)\n",
    "        X_val_f   = X_val.reset_index(drop=True).merge(bow_df_train.reset_index(drop=True), left_index=True, right_index=True)\n",
    "        \n",
    "        \n",
    "        # oversampling\n",
    "        \n",
    "        X_train_f_over, y_train_over = oversampler.fit_resample(X_train_f, y_train)\n",
    "        \n",
    "        # model fit & prediction\n",
    "        \n",
    "        start = time.time()\n",
    "        model.fit(X_train_f_over, y_train_over) \n",
    "\n",
    "        y_pred = model.predict(X_val_f)\n",
    "        end = time.time()\n",
    "        \n",
    "        score = f1_score(y_val,y_pred, average='macro') # get avg f1_score across classes\n",
    "        time_ = end - start\n",
    "        \n",
    "        scores.append(score)\n",
    "        times.append(time_)\n",
    "    \n",
    "    names.append(name)\n",
    "    results.append(sum(scores)/len(scores))\n",
    "           \n",
    "    print(f'{name} : {sum(scores)/len(scores)}')\n",
    "    print(f'Time : {sum(times)/len(times)}')\n",
    "    print('\\n')\n",
    "    "
   ]
  },
  {
   "cell_type": "markdown",
   "id": "c725465d",
   "metadata": {},
   "source": [
    "- Best scores were with Multinomial Naive Bayes & XGBoost. Multinomial Naive Bayes takes the least amount of time to fit & predict, while XGBoost takes the maximum amount of time\n",
    "- Random Forest is easier to interpret with class_feature_importance built in the module with not much compromise in performance score & time \n",
    "\n",
    "The next step will involve tuning hyperparameters for the vectorizer & the chosen model in an effort to improve performance further"
   ]
  },
  {
   "cell_type": "markdown",
   "id": "5520730c",
   "metadata": {},
   "source": [
    "### Hyperparameter Tuning - GridSearchCV - RandomForest"
   ]
  },
  {
   "cell_type": "code",
   "execution_count": 50,
   "id": "7e556cd3",
   "metadata": {},
   "outputs": [],
   "source": [
    "pipe       = Pipeline(\n",
    "                    [('TfidfVectorizer',TfidfVectorizer(stop_words='english')),\n",
    "                     ('oversampler',    RandomOverSampler(random_state=1)),\n",
    "                     ('RandomForest',   RandomForestClassifier(random_state=1))])\n",
    "\n",
    "parameters = {\n",
    "              'TfidfVectorizer__ngram_range' : [(1,1),(1,2)],\n",
    "              'TfidfVectorizer__max_features': range(1000,10000,2500),\n",
    "              'RandomForest__n_estimators'   : range(10,100,25),\n",
    "              'RandomForest__criterion'      : ['gini', 'entropy'],\n",
    "              'RandomForest__max_depth'      : range(3,15,3), \n",
    "              'RandomForest__max_features'   : ['auto', 'sqrt'],\n",
    "            }"
   ]
  },
  {
   "cell_type": "code",
   "execution_count": 51,
   "id": "aeafa545",
   "metadata": {},
   "outputs": [],
   "source": [
    "def GridSearchCV_(estimator, estimator_params, X, y):\n",
    "    \n",
    "    kf = StratifiedKFold(n_splits=3, random_state=1, shuffle=True)\n",
    "    \n",
    "    best_score   = 0  \n",
    "    best_params  = None\n",
    "    \n",
    "    for params_permut in ParameterGrid(estimator_params):\n",
    "        \n",
    "        scores   = np.empty(kf.n_splits)\n",
    "        \n",
    "        estimator.set_params(**params_permut)\n",
    "        \n",
    "        for i, (train_index, val_index) in enumerate(kf.split(X_train_full, y_train_full)):\n",
    "            \n",
    "            X_train, X_val = X_train_full.iloc[train_index], X_train_full.iloc[val_index]\n",
    "            y_train, y_val = y_train_full.iloc[train_index], y_train_full.iloc[val_index]\n",
    "            \n",
    "            # vectorization\n",
    "\n",
    "            num_tweets_train = estimator.steps[0][1].fit_transform(X_train['tokens'])\n",
    "            num_tweets_val   = estimator.steps[0][1].transform(X_val['tokens'])\n",
    "\n",
    "            feature_names= estimator.steps[0][1].get_feature_names_out()\n",
    "\n",
    "            bow_df_train = pd.DataFrame(num_tweets_train.toarray(), columns=feature_names)\n",
    "            bow_df_val   = pd.DataFrame(num_tweets_val.toarray(),   columns=feature_names)\n",
    "\n",
    "            X_train   = X_train.drop('tokens', axis=1)\n",
    "            X_val     = X_val.drop('tokens', axis=1)\n",
    "\n",
    "            X_train_f = X_train.reset_index(drop=True).merge(bow_df_train.reset_index(drop=True), left_index=True, right_index=True)\n",
    "            X_val_f   = X_val.reset_index(drop=True).merge(bow_df_val.reset_index(drop=True), left_index=True, right_index=True)\n",
    "\n",
    "            # oversampling\n",
    "        \n",
    "            X_train_f_over, y_train_over = estimator.steps[1][1].fit_resample(X_train_f, y_train)\n",
    "            \n",
    "            # fit & prediction\n",
    "            \n",
    "            estimator.steps[2][1].fit(X_train_f_over, y_train_over)\n",
    "\n",
    "            y_pred = estimator.steps[2][1].predict(X_val_f)\n",
    "\n",
    "            scores[i] = f1_score(y_val,y_pred, average='macro') # get avg weighted f1_score across classes\n",
    "\n",
    "        scores_mean   = scores.mean()\n",
    "        \n",
    "        if scores_mean>best_score:\n",
    "            best_params= params_permut\n",
    "            best_score = scores_mean\n",
    "            \n",
    "    \n",
    "    print(f'Best Hyperparameters are:\\n {best_params}')\n",
    "    print(f'Best Score is:\\n {best_score}')\n",
    "              "
   ]
  },
  {
   "cell_type": "code",
   "execution_count": 52,
   "id": "3e2ddf58",
   "metadata": {},
   "outputs": [
    {
     "name": "stdout",
     "output_type": "stream",
     "text": [
      "Best Hyperparameters are:\n",
      " {'RandomForest__criterion': 'gini', 'RandomForest__max_depth': 12, 'RandomForest__max_features': 'auto', 'RandomForest__n_estimators': 85, 'TfidfVectorizer__max_features': 1000, 'TfidfVectorizer__ngram_range': (1, 1)}\n",
      "Best Score is:\n",
      " 0.7199566069352127\n"
     ]
    }
   ],
   "source": [
    "GridSearchCV_(pipe, parameters, X_train_full, y_train_full)"
   ]
  },
  {
   "cell_type": "markdown",
   "id": "b74c696b",
   "metadata": {},
   "source": [
    "#### Building the final classifier & making predictions using the test set"
   ]
  },
  {
   "cell_type": "code",
   "execution_count": 53,
   "id": "8f99d223",
   "metadata": {},
   "outputs": [],
   "source": [
    "# The steps can be built into a function \n",
    "\n",
    "def sentiment(X_sample, X, y):   # X & y are the features & predictions for known dataset \n",
    "                                 # & X_sample is feature set for data where sentiment(s) are unknown\n",
    "   \n",
    "    pipe_final   = Pipeline(\n",
    "                [('TfidfVectorizer',TfidfVectorizer(stop_words='english', ngram_range=(1, 1),max_features=1000)),\n",
    "                 ('oversampler',    RandomOverSampler(random_state=1)),\n",
    "                 ('RandomForest'   , RandomForestClassifier(random_state=1, criterion='gini',\\\n",
    "                                                             max_depth=12, max_features='auto', \\\n",
    "                                                             n_estimators=85))])\n",
    "    \n",
    "    # vectorization\n",
    "\n",
    "    num_tweets            = pipe_final.steps[0][1].fit_transform(X['tokens'])\n",
    "    num_tweets_sample     = pipe_final.steps[0][1].transform(X_sample['tokens'])\n",
    "\n",
    "    feature_names         = pipe_final.steps[0][1].get_feature_names_out()\n",
    "\n",
    "    bow_df_full           = pd.DataFrame(num_tweets.toarray(), columns=feature_names)\n",
    "    bow_df_sample         = pd.DataFrame(num_tweets_sample.toarray(), columns=feature_names)\n",
    "\n",
    "    X                     = X.drop('tokens', axis=1)\n",
    "    X_sample              = X_sample.drop('tokens', axis=1)\n",
    "    \n",
    "    feature_names_in_     = list(X.columns)\n",
    "\n",
    "    X_f                   = X.reset_index(drop=True).merge(bow_df_full.reset_index(drop=True), left_index=True, right_index=True)\n",
    "    X_sample_f            = X_sample.reset_index(drop=True).merge(bow_df_sample.reset_index(drop=True), left_index=True, right_index=True)\n",
    "    \n",
    "    # oversampling\n",
    "    \n",
    "    X_f_over, y_over      = pipe_final.steps[1][1].fit_resample(X_f, y)\n",
    "    \n",
    "    # model fit & prediction\n",
    "    \n",
    "    pipe_final.steps[2][1].fit(X_f_over, y_over)\n",
    "    \n",
    "    pred                  = pipe_final.steps[2][1].predict(X_sample_f)\n",
    "    \n",
    "    feature_names         = feature_names_in_ + list(pipe_final.steps[0][1].get_feature_names_out())\n",
    "    \n",
    "    return pred, pipe_final.steps[2][1], feature_names, X_f_over, y_over\n"
   ]
  },
  {
   "cell_type": "code",
   "execution_count": 54,
   "id": "6a6cc320",
   "metadata": {},
   "outputs": [
    {
     "name": "stdout",
     "output_type": "stream",
     "text": [
      "Final Classifier Unbiased Testing Performance:\n",
      "              precision    recall  f1-score   support\n",
      "\n",
      "          -1       0.84      0.52      0.64        60\n",
      "           0       0.70      0.91      0.79       143\n",
      "           1       0.88      0.76      0.81       159\n",
      "\n",
      "    accuracy                           0.78       362\n",
      "   macro avg       0.80      0.73      0.75       362\n",
      "weighted avg       0.80      0.78      0.78       362\n",
      "\n"
     ]
    }
   ],
   "source": [
    "# Testing \n",
    "\n",
    "pred_test, tuned_model, feature_names, X_, y_  = sentiment(X_test, X_train_full, y_train_full)\n",
    "\n",
    "print('Final Classifier Unbiased Testing Performance:')\n",
    "print(classification_report(y_test, pred_test))"
   ]
  },
  {
   "cell_type": "markdown",
   "id": "824aa7ae",
   "metadata": {},
   "source": [
    "- The final classifier is able to achieve a F1 score of ~65% for negative sentiments, ~>=75% for positive & neutral sentiments"
   ]
  },
  {
   "cell_type": "markdown",
   "id": "db2c0af0",
   "metadata": {},
   "source": [
    "### Feature Importance"
   ]
  },
  {
   "cell_type": "code",
   "execution_count": 55,
   "id": "8ed438f2",
   "metadata": {},
   "outputs": [],
   "source": [
    "from sklearn.preprocessing import scale\n",
    "from collections import OrderedDict\n",
    "def class_feature_importance(X, y, class_labels, feature_names, feature_importances, max_top = 20):\n",
    "    \"\"\"\n",
    "    Saves feature importances by class\n",
    "    Reworked version of https://stackoverflow.com/a/36201964\n",
    "    \n",
    "    Arguments:\n",
    "    X, y - array of features and labels\n",
    "    class_labels - labels corresponding to values in y. For example, if y has [0, 1, 2], class_labels can be ['neg', 'pos', 'neutral']\n",
    "    feature_names - names of columns in X\n",
    "    feature_importances - obtained from a classifier such as decision tree\n",
    "    max_top - the maximum number of most important features for each class to keep\n",
    "    \n",
    "    Returns:\n",
    "    result - dictionary of feature importances by class\n",
    "    \"\"\"\n",
    "    X = scale(X)\n",
    "    \n",
    "    result = {}\n",
    "    # extract feature importances by class\n",
    "    for c in set(y):\n",
    "        result[class_labels[c]] = dict(zip(feature_names, np.mean(X[y == c, :], axis = 0) * feature_importances))\n",
    "    \n",
    "    # sort by importance and keep the most important\n",
    "    for cname in result.keys():\n",
    "        result[cname] = sorted(result[cname].items(), key = lambda x: x[1], reverse = True)[:max_top]\n",
    "    \n",
    "    return result"
   ]
  },
  {
   "cell_type": "code",
   "execution_count": 56,
   "id": "6910a630",
   "metadata": {},
   "outputs": [
    {
     "data": {
      "text/plain": [
       "{0: [('http', 0.005254903628625936),\n",
       "  ('cibc', 0.0035686977763002403),\n",
       "  ('outperform', 0.0012783284104765282),\n",
       "  ('upgrad', 0.001105422848748587),\n",
       "  ('canopi', 0.0008237733183353656),\n",
       "  ('million', 0.0006391237213643123),\n",
       "  ('affili', 0.0005750117591376953),\n",
       "  ('pot', 0.0005617869930377333),\n",
       "  ('pharmhous', 0.0005171659119547022),\n",
       "  ('stock', 0.00048245308190496906),\n",
       "  ('compani', 0.0003972520080258514),\n",
       "  ('80', 0.0002840897183251984),\n",
       "  ('loan', 0.0002778209808019329),\n",
       "  ('recruit', 0.0002509295685181296),\n",
       "  ('reaffirm', 0.00024354833156878063),\n",
       "  ('provid', 0.00023361912402952383),\n",
       "  ('specincanada', 0.00021524804917062436),\n",
       "  ('gold', 0.00018683605095486946),\n",
       "  ('price', 0.0001651093407695493),\n",
       "  ('market', 0.00015872398701660342)],\n",
       " 1: [('number_positive_words', 0.024674967297793084),\n",
       "  ('thank', 0.0075800359501043595),\n",
       "  ('new', 0.006824029545674138),\n",
       "  ('latest', 0.004987000695066227),\n",
       "  ('read', 0.004323775844940422),\n",
       "  ('beat', 0.004250830164816125),\n",
       "  ('daili', 0.0033137842100420677),\n",
       "  ('click', 0.0030861135368116816),\n",
       "  ('gundi', 0.002906447759835412),\n",
       "  ('isg', 0.0021729156451157695),\n",
       "  ('look', 0.0019328118519697814),\n",
       "  ('love', 0.001404756888657215),\n",
       "  ('market', 0.0013694959613604462),\n",
       "  ('good', 0.0010149851813869692),\n",
       "  ('great', 0.0010121532625143286),\n",
       "  ('firstcaribbean', 0.0009225602339887848),\n",
       "  ('wood', 0.0008998155189470076),\n",
       "  ('home', 0.0007702234465535215),\n",
       "  ('game', 0.0007399270199097473),\n",
       "  ('cool', 0.0006142506427804738)],\n",
       " -1: [('growth', 0.020508279448409432),\n",
       "  ('mortgag', 0.019366596158985994),\n",
       "  ('flat', 0.01593803535685603),\n",
       "  ('low', 0.013638174657405067),\n",
       "  ('ceo', 0.00991227325635339),\n",
       "  ('number_negative_words', 0.009865706883072735),\n",
       "  ('singl', 0.008695714600743245),\n",
       "  ('year', 0.007091239388495461),\n",
       "  ('thi', 0.0036762564809373643),\n",
       "  ('sorri', 0.0034910600221196805),\n",
       "  ('digit', 0.0034875670207551697),\n",
       "  ('forese', 0.0022939260500948098),\n",
       "  ('nint', 0.001975114963768389),\n",
       "  ('expect', 0.0019119478668486187),\n",
       "  ('head', 0.0019059296524093635),\n",
       "  ('close', 0.0015397788130216727),\n",
       "  ('prioriti', 0.001397608266141923),\n",
       "  ('poll', 0.0013932492910597326),\n",
       "  ('fli', 0.0013557985039408462),\n",
       "  ('wait', 0.0013532427413267963)]}"
      ]
     },
     "execution_count": 56,
     "metadata": {},
     "output_type": "execute_result"
    }
   ],
   "source": [
    "class_feature_importance(X_, y_, [0,1,-1], \\\n",
    "                         feature_names, tuned_model.feature_importances_)"
   ]
  },
  {
   "cell_type": "markdown",
   "id": "69e2c97c",
   "metadata": {},
   "source": [
    "### Summary & Conclusion"
   ]
  },
  {
   "cell_type": "markdown",
   "id": "64a290f4",
   "metadata": {},
   "source": [
    "- TextBlob was used to assign sentiment labels to tweets. There was inherently some imbalance in classes of sentiments for the dataset; negative:neutral:positive ratio was 0.15:0.43:0.40\n",
    "\n",
    "\n",
    "- Data cleaning, visualization was followed by text analytics (removing non alphanumeric characters, tokenizing sentences, lemmatization, removing stop words & performing vectorization using TF-IDF). This was followed by randomoversampling to handle target imbalance\n",
    "\n",
    "\n",
    "- Four different base models were fitted to the training set. The best cross validated scores though were achieved with MultinomialNB & XGBoost; however Random Forest was chosen for hyperparameter tuning as it's easier to interpret with the class feature improtances, & with not much compromise with score & computational time\n",
    "\n",
    "\n",
    "- A pipeline was further built for TF-IDF & Random Forest, thereby enabling tuning for the best hyper-parameters. Post tuning, performance was enhanced to achieve a F1 score of ~0.65 for negative sentiment & >0.75 for neutral & positive sentiments on unseen test data \n",
    "\n",
    "\n",
    "- For the final model, feature importance was identified for all 3 classes (negative, neutral & positive tweets). As expected \n",
    "  - number_negative_words had high feature importance for predicting negative sentiments & number_positive_words had high feature importance for predicting positive sentiments\n",
    "  - The words of importances associated with negative tweets were found to be 'flat', 'mortgage', 'single', 'low', 'sorry', 'close' etc\n",
    "  - The words of importances associated with positive tweets were found to be 'new', 'thank', 'wood', 'latest', 'game', 'love', 'home', 'great', 'good'\n",
    "  - The words of importances associated with neutral tweets were found to be 'http', 'cibc', 'company', 'recruit', 'reaffirm', 'provide'\n",
    "\n",
    " The feature importance words & tweet sentiments make somewhat intuitive sense lending confidence in the explainability of the final model!"
   ]
  }
 ],
 "metadata": {
  "kernelspec": {
   "display_name": "Python 3 (ipykernel)",
   "language": "python",
   "name": "python3"
  },
  "language_info": {
   "codemirror_mode": {
    "name": "ipython",
    "version": 3
   },
   "file_extension": ".py",
   "mimetype": "text/x-python",
   "name": "python",
   "nbconvert_exporter": "python",
   "pygments_lexer": "ipython3",
   "version": "3.8.2"
  }
 },
 "nbformat": 4,
 "nbformat_minor": 5
}
